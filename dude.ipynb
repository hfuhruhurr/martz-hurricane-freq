{
 "cells": [
  {
   "cell_type": "code",
   "execution_count": 131,
   "metadata": {},
   "outputs": [],
   "source": [
    "import polars as pl\n",
    "import json\n",
    "# import os\n",
    "from pathlib import Path\n",
    "import altair as alt\n",
    "import matplotlib.pyplot as plt\n",
    "import numpy as np"
   ]
  },
  {
   "cell_type": "code",
   "execution_count": 89,
   "metadata": {},
   "outputs": [],
   "source": [
    "def process_one_region(region):\n",
    "    file_path = f'data/{region}.json'\n",
    "\n",
    "    with open(file_path, 'r') as file:\n",
    "        # Read in json data (one file for each region)\n",
    "        data = json.load(file)\n",
    "         \n",
    "        # Convert json data to a list of dicts (to facilitate to conversion to a dataframe)\n",
    "        records = [\n",
    "            {\n",
    "                'year': year,\n",
    "                'named_storms': values[0],\n",
    "                'named_storm_days': values[1],\n",
    "                'hurricanes': values[2],\n",
    "                'hurricane_days': values[3],\n",
    "                'major_hurricanes': values[4],\n",
    "                'major_hurricane_days': values[5],\n",
    "                'ace': values[6],\n",
    "            }\n",
    "            for year, values in data.items()\n",
    "        ]\n",
    "\n",
    "        # Make a dataframe from the list-o-dicts\n",
    "        df = (\n",
    "            pl.DataFrame(records)\n",
    "            .with_columns(\n",
    "                # pl.lit(region).cast(pl.Categorical).alias('region'),\n",
    "                pl.lit(region).alias('region'),\n",
    "                pl.col('year').cast(pl.UInt16),\n",
    "            )\n",
    "        )\n",
    "\n",
    "        # Put 'region\" column first and scoot the rest to the right\n",
    "        cols = df.columns\n",
    "        cols = cols[-1:] + cols[:-1]\n",
    "\n",
    "    return df[cols]"
   ]
  },
  {
   "cell_type": "code",
   "execution_count": 90,
   "metadata": {},
   "outputs": [],
   "source": [
    "# Grab data from source .json files\n",
    "data_dir = Path('data')\n",
    "json_files = [file for file in data_dir.glob('*.json') if file.is_file()]"
   ]
  },
  {
   "cell_type": "code",
   "execution_count": 91,
   "metadata": {},
   "outputs": [
    {
     "name": "stdout",
     "output_type": "stream",
     "text": [
      "Processing the northeastpacific region...\n",
      "Processing the southindian region...\n",
      "Processing the northatlantic region...\n",
      "Processing the southernhemisphere region...\n",
      "Processing the southpacific region...\n",
      "Processing the northindian region...\n",
      "Processing the global region...\n",
      "Processing the northernhemisphere region...\n",
      "Processing the northwestpacific region...\n"
     ]
    }
   ],
   "source": [
    "# Combine all region's pertinent data into one dataframe\n",
    "df = pl.DataFrame()\n",
    "\n",
    "for file in json_files:\n",
    "    region = file.stem\n",
    "    print(f'Processing the {region} region...')\n",
    "    df = df.vstack(process_one_region(region))\n",
    "\n",
    "df = (\n",
    "    df\n",
    "    .filter(\n",
    "        pl.col('year').is_between(1980, 2023),\n",
    "        ~pl.col('region').is_in(['global', 'northernhemisphere', 'southernhemisphere'])\n",
    "    )\n",
    "    .select(['region', 'year', 'major_hurricanes'])\n",
    ")"
   ]
  },
  {
   "cell_type": "code",
   "execution_count": 92,
   "metadata": {},
   "outputs": [],
   "source": [
    "region_order = [\n",
    "    'southindian',\n",
    "    'southpacific',\n",
    "    'northindian',\n",
    "    'northwestpacific',\n",
    "    'northeastpacific',\n",
    "    'northatlantic',\n",
    "]"
   ]
  },
  {
   "cell_type": "code",
   "execution_count": 93,
   "metadata": {},
   "outputs": [],
   "source": [
    "region_colors = {\n",
    "    'northwestpacific': '#15027d',\n",
    "    'northeastpacific': '#4677a3',\n",
    "    'northatlantic': '#34aa9f',\n",
    "    'southindian': '#54dacb',\n",
    "    'southpacific': '#648412',\n",
    "    'northindian': '#cc9c09',\n",
    "}"
   ]
  },
  {
   "cell_type": "code",
   "execution_count": 94,
   "metadata": {},
   "outputs": [],
   "source": [
    "region_color_map = alt.Scale(\n",
    "    domain=list(region_colors.keys()),\n",
    "    range=list(region_colors.values())\n",
    ")"
   ]
  },
  {
   "cell_type": "code",
   "execution_count": 95,
   "metadata": {},
   "outputs": [
    {
     "data": {
      "text/html": [
       "\n",
       "<style>\n",
       "  #altair-viz-c7dce766c4bb472791a70e722d278ae2.vega-embed {\n",
       "    width: 100%;\n",
       "    display: flex;\n",
       "  }\n",
       "\n",
       "  #altair-viz-c7dce766c4bb472791a70e722d278ae2.vega-embed details,\n",
       "  #altair-viz-c7dce766c4bb472791a70e722d278ae2.vega-embed details summary {\n",
       "    position: relative;\n",
       "  }\n",
       "</style>\n",
       "<div id=\"altair-viz-c7dce766c4bb472791a70e722d278ae2\"></div>\n",
       "<script type=\"text/javascript\">\n",
       "  var VEGA_DEBUG = (typeof VEGA_DEBUG == \"undefined\") ? {} : VEGA_DEBUG;\n",
       "  (function(spec, embedOpt){\n",
       "    let outputDiv = document.currentScript.previousElementSibling;\n",
       "    if (outputDiv.id !== \"altair-viz-c7dce766c4bb472791a70e722d278ae2\") {\n",
       "      outputDiv = document.getElementById(\"altair-viz-c7dce766c4bb472791a70e722d278ae2\");\n",
       "    }\n",
       "    const paths = {\n",
       "      \"vega\": \"https://cdn.jsdelivr.net/npm/vega@5?noext\",\n",
       "      \"vega-lib\": \"https://cdn.jsdelivr.net/npm/vega-lib?noext\",\n",
       "      \"vega-lite\": \"https://cdn.jsdelivr.net/npm/vega-lite@5.20.1?noext\",\n",
       "      \"vega-embed\": \"https://cdn.jsdelivr.net/npm/vega-embed@6?noext\",\n",
       "    };\n",
       "\n",
       "    function maybeLoadScript(lib, version) {\n",
       "      var key = `${lib.replace(\"-\", \"\")}_version`;\n",
       "      return (VEGA_DEBUG[key] == version) ?\n",
       "        Promise.resolve(paths[lib]) :\n",
       "        new Promise(function(resolve, reject) {\n",
       "          var s = document.createElement('script');\n",
       "          document.getElementsByTagName(\"head\")[0].appendChild(s);\n",
       "          s.async = true;\n",
       "          s.onload = () => {\n",
       "            VEGA_DEBUG[key] = version;\n",
       "            return resolve(paths[lib]);\n",
       "          };\n",
       "          s.onerror = () => reject(`Error loading script: ${paths[lib]}`);\n",
       "          s.src = paths[lib];\n",
       "        });\n",
       "    }\n",
       "\n",
       "    function showError(err) {\n",
       "      outputDiv.innerHTML = `<div class=\"error\" style=\"color:red;\">${err}</div>`;\n",
       "      throw err;\n",
       "    }\n",
       "\n",
       "    function displayChart(vegaEmbed) {\n",
       "      vegaEmbed(outputDiv, spec, embedOpt)\n",
       "        .catch(err => showError(`Javascript Error: ${err.message}<br>This usually means there's a typo in your chart specification. See the javascript console for the full traceback.`));\n",
       "    }\n",
       "\n",
       "    if(typeof define === \"function\" && define.amd) {\n",
       "      requirejs.config({paths});\n",
       "      require([\"vega-embed\"], displayChart, err => showError(`Error loading script: ${err.message}`));\n",
       "    } else {\n",
       "      maybeLoadScript(\"vega\", \"5\")\n",
       "        .then(() => maybeLoadScript(\"vega-lite\", \"5.20.1\"))\n",
       "        .then(() => maybeLoadScript(\"vega-embed\", \"6\"))\n",
       "        .catch(showError)\n",
       "        .then(() => displayChart(vegaEmbed));\n",
       "    }\n",
       "  })({\"config\": {\"view\": {\"continuousWidth\": 300, \"continuousHeight\": 300}}, \"data\": {\"name\": \"data-1b99a7ba55aaaba8ec5598df51cf7791\"}, \"mark\": {\"type\": \"bar\"}, \"encoding\": {\"color\": {\"field\": \"region\", \"scale\": {\"domain\": [\"northwestpacific\", \"northeastpacific\", \"northatlantic\", \"southindian\", \"southpacific\", \"northindian\"], \"range\": [\"#15027d\", \"#4677a3\", \"#34aa9f\", \"#54dacb\", \"#648412\", \"#cc9c09\"]}, \"title\": \"Region\", \"type\": \"nominal\"}, \"tooltip\": [{\"field\": \"year\", \"type\": \"quantitative\"}, {\"field\": \"region\", \"type\": \"nominal\"}, {\"field\": \"major_hurricanes\", \"type\": \"quantitative\"}], \"x\": {\"field\": \"year\", \"scale\": {\"domain\": [1980, 2023]}, \"title\": \"Year\", \"type\": \"quantitative\"}, \"y\": {\"field\": \"major_hurricanes\", \"type\": \"quantitative\"}}, \"$schema\": \"https://vega.github.io/schema/vega-lite/v5.20.1.json\", \"datasets\": {\"data-1b99a7ba55aaaba8ec5598df51cf7791\": [{\"region\": \"northeastpacific\", \"year\": 1980, \"major_hurricanes\": 3}, {\"region\": \"northeastpacific\", \"year\": 1981, \"major_hurricanes\": 1}, {\"region\": \"northeastpacific\", \"year\": 1982, \"major_hurricanes\": 5}, {\"region\": \"northeastpacific\", \"year\": 1983, \"major_hurricanes\": 8}, {\"region\": \"northeastpacific\", \"year\": 1984, \"major_hurricanes\": 7}, {\"region\": \"northeastpacific\", \"year\": 1985, \"major_hurricanes\": 8}, {\"region\": \"northeastpacific\", \"year\": 1986, \"major_hurricanes\": 3}, {\"region\": \"northeastpacific\", \"year\": 1987, \"major_hurricanes\": 4}, {\"region\": \"northeastpacific\", \"year\": 1988, \"major_hurricanes\": 3}, {\"region\": \"northeastpacific\", \"year\": 1989, \"major_hurricanes\": 4}, {\"region\": \"northeastpacific\", \"year\": 1990, \"major_hurricanes\": 6}, {\"region\": \"northeastpacific\", \"year\": 1991, \"major_hurricanes\": 5}, {\"region\": \"northeastpacific\", \"year\": 1992, \"major_hurricanes\": 10}, {\"region\": \"northeastpacific\", \"year\": 1993, \"major_hurricanes\": 9}, {\"region\": \"northeastpacific\", \"year\": 1994, \"major_hurricanes\": 5}, {\"region\": \"northeastpacific\", \"year\": 1995, \"major_hurricanes\": 3}, {\"region\": \"northeastpacific\", \"year\": 1996, \"major_hurricanes\": 2}, {\"region\": \"northeastpacific\", \"year\": 1997, \"major_hurricanes\": 7}, {\"region\": \"northeastpacific\", \"year\": 1998, \"major_hurricanes\": 6}, {\"region\": \"northeastpacific\", \"year\": 1999, \"major_hurricanes\": 2}, {\"region\": \"northeastpacific\", \"year\": 2000, \"major_hurricanes\": 2}, {\"region\": \"northeastpacific\", \"year\": 2001, \"major_hurricanes\": 2}, {\"region\": \"northeastpacific\", \"year\": 2002, \"major_hurricanes\": 6}, {\"region\": \"northeastpacific\", \"year\": 2003, \"major_hurricanes\": 0}, {\"region\": \"northeastpacific\", \"year\": 2004, \"major_hurricanes\": 3}, {\"region\": \"northeastpacific\", \"year\": 2005, \"major_hurricanes\": 2}, {\"region\": \"northeastpacific\", \"year\": 2006, \"major_hurricanes\": 6}, {\"region\": \"northeastpacific\", \"year\": 2007, \"major_hurricanes\": 1}, {\"region\": \"northeastpacific\", \"year\": 2008, \"major_hurricanes\": 2}, {\"region\": \"northeastpacific\", \"year\": 2009, \"major_hurricanes\": 5}, {\"region\": \"northeastpacific\", \"year\": 2010, \"major_hurricanes\": 2}, {\"region\": \"northeastpacific\", \"year\": 2011, \"major_hurricanes\": 6}, {\"region\": \"northeastpacific\", \"year\": 2012, \"major_hurricanes\": 5}, {\"region\": \"northeastpacific\", \"year\": 2013, \"major_hurricanes\": 1}, {\"region\": \"northeastpacific\", \"year\": 2014, \"major_hurricanes\": 9}, {\"region\": \"northeastpacific\", \"year\": 2015, \"major_hurricanes\": 11}, {\"region\": \"northeastpacific\", \"year\": 2016, \"major_hurricanes\": 6}, {\"region\": \"northeastpacific\", \"year\": 2017, \"major_hurricanes\": 4}, {\"region\": \"northeastpacific\", \"year\": 2018, \"major_hurricanes\": 10}, {\"region\": \"northeastpacific\", \"year\": 2019, \"major_hurricanes\": 4}, {\"region\": \"northeastpacific\", \"year\": 2020, \"major_hurricanes\": 3}, {\"region\": \"northeastpacific\", \"year\": 2021, \"major_hurricanes\": 2}, {\"region\": \"northeastpacific\", \"year\": 2022, \"major_hurricanes\": 4}, {\"region\": \"northeastpacific\", \"year\": 2023, \"major_hurricanes\": 8}, {\"region\": \"southindian\", \"year\": 1980, \"major_hurricanes\": 6}, {\"region\": \"southindian\", \"year\": 1981, \"major_hurricanes\": 5}, {\"region\": \"southindian\", \"year\": 1982, \"major_hurricanes\": 2}, {\"region\": \"southindian\", \"year\": 1983, \"major_hurricanes\": 0}, {\"region\": \"southindian\", \"year\": 1984, \"major_hurricanes\": 3}, {\"region\": \"southindian\", \"year\": 1985, \"major_hurricanes\": 2}, {\"region\": \"southindian\", \"year\": 1986, \"major_hurricanes\": 5}, {\"region\": \"southindian\", \"year\": 1987, \"major_hurricanes\": 0}, {\"region\": \"southindian\", \"year\": 1988, \"major_hurricanes\": 2}, {\"region\": \"southindian\", \"year\": 1989, \"major_hurricanes\": 6}, {\"region\": \"southindian\", \"year\": 1990, \"major_hurricanes\": 4}, {\"region\": \"southindian\", \"year\": 1991, \"major_hurricanes\": 2}, {\"region\": \"southindian\", \"year\": 1992, \"major_hurricanes\": 7}, {\"region\": \"southindian\", \"year\": 1993, \"major_hurricanes\": 2}, {\"region\": \"southindian\", \"year\": 1994, \"major_hurricanes\": 7}, {\"region\": \"southindian\", \"year\": 1995, \"major_hurricanes\": 7}, {\"region\": \"southindian\", \"year\": 1996, \"major_hurricanes\": 7}, {\"region\": \"southindian\", \"year\": 1997, \"major_hurricanes\": 5}, {\"region\": \"southindian\", \"year\": 1998, \"major_hurricanes\": 2}, {\"region\": \"southindian\", \"year\": 1999, \"major_hurricanes\": 6}, {\"region\": \"southindian\", \"year\": 2000, \"major_hurricanes\": 7}, {\"region\": \"southindian\", \"year\": 2001, \"major_hurricanes\": 4}, {\"region\": \"southindian\", \"year\": 2002, \"major_hurricanes\": 7}, {\"region\": \"southindian\", \"year\": 2003, \"major_hurricanes\": 5}, {\"region\": \"southindian\", \"year\": 2004, \"major_hurricanes\": 6}, {\"region\": \"southindian\", \"year\": 2005, \"major_hurricanes\": 4}, {\"region\": \"southindian\", \"year\": 2006, \"major_hurricanes\": 5}, {\"region\": \"southindian\", \"year\": 2007, \"major_hurricanes\": 8}, {\"region\": \"southindian\", \"year\": 2008, \"major_hurricanes\": 5}, {\"region\": \"southindian\", \"year\": 2009, \"major_hurricanes\": 4}, {\"region\": \"southindian\", \"year\": 2010, \"major_hurricanes\": 5}, {\"region\": \"southindian\", \"year\": 2011, \"major_hurricanes\": 1}, {\"region\": \"southindian\", \"year\": 2012, \"major_hurricanes\": 2}, {\"region\": \"southindian\", \"year\": 2013, \"major_hurricanes\": 6}, {\"region\": \"southindian\", \"year\": 2014, \"major_hurricanes\": 7}, {\"region\": \"southindian\", \"year\": 2015, \"major_hurricanes\": 5}, {\"region\": \"southindian\", \"year\": 2016, \"major_hurricanes\": 3}, {\"region\": \"southindian\", \"year\": 2017, \"major_hurricanes\": 2}, {\"region\": \"southindian\", \"year\": 2018, \"major_hurricanes\": 4}, {\"region\": \"southindian\", \"year\": 2019, \"major_hurricanes\": 11}, {\"region\": \"southindian\", \"year\": 2020, \"major_hurricanes\": 5}, {\"region\": \"southindian\", \"year\": 2021, \"major_hurricanes\": 3}, {\"region\": \"southindian\", \"year\": 2022, \"major_hurricanes\": 5}, {\"region\": \"southindian\", \"year\": 2023, \"major_hurricanes\": 5}, {\"region\": \"northatlantic\", \"year\": 1980, \"major_hurricanes\": 2}, {\"region\": \"northatlantic\", \"year\": 1981, \"major_hurricanes\": 3}, {\"region\": \"northatlantic\", \"year\": 1982, \"major_hurricanes\": 1}, {\"region\": \"northatlantic\", \"year\": 1983, \"major_hurricanes\": 1}, {\"region\": \"northatlantic\", \"year\": 1984, \"major_hurricanes\": 1}, {\"region\": \"northatlantic\", \"year\": 1985, \"major_hurricanes\": 3}, {\"region\": \"northatlantic\", \"year\": 1986, \"major_hurricanes\": 0}, {\"region\": \"northatlantic\", \"year\": 1987, \"major_hurricanes\": 1}, {\"region\": \"northatlantic\", \"year\": 1988, \"major_hurricanes\": 3}, {\"region\": \"northatlantic\", \"year\": 1989, \"major_hurricanes\": 2}, {\"region\": \"northatlantic\", \"year\": 1990, \"major_hurricanes\": 1}, {\"region\": \"northatlantic\", \"year\": 1991, \"major_hurricanes\": 2}, {\"region\": \"northatlantic\", \"year\": 1992, \"major_hurricanes\": 1}, {\"region\": \"northatlantic\", \"year\": 1993, \"major_hurricanes\": 1}, {\"region\": \"northatlantic\", \"year\": 1994, \"major_hurricanes\": 0}, {\"region\": \"northatlantic\", \"year\": 1995, \"major_hurricanes\": 5}, {\"region\": \"northatlantic\", \"year\": 1996, \"major_hurricanes\": 6}, {\"region\": \"northatlantic\", \"year\": 1997, \"major_hurricanes\": 1}, {\"region\": \"northatlantic\", \"year\": 1998, \"major_hurricanes\": 3}, {\"region\": \"northatlantic\", \"year\": 1999, \"major_hurricanes\": 5}, {\"region\": \"northatlantic\", \"year\": 2000, \"major_hurricanes\": 3}, {\"region\": \"northatlantic\", \"year\": 2001, \"major_hurricanes\": 4}, {\"region\": \"northatlantic\", \"year\": 2002, \"major_hurricanes\": 2}, {\"region\": \"northatlantic\", \"year\": 2003, \"major_hurricanes\": 3}, {\"region\": \"northatlantic\", \"year\": 2004, \"major_hurricanes\": 6}, {\"region\": \"northatlantic\", \"year\": 2005, \"major_hurricanes\": 7}, {\"region\": \"northatlantic\", \"year\": 2006, \"major_hurricanes\": 2}, {\"region\": \"northatlantic\", \"year\": 2007, \"major_hurricanes\": 2}, {\"region\": \"northatlantic\", \"year\": 2008, \"major_hurricanes\": 5}, {\"region\": \"northatlantic\", \"year\": 2009, \"major_hurricanes\": 2}, {\"region\": \"northatlantic\", \"year\": 2010, \"major_hurricanes\": 5}, {\"region\": \"northatlantic\", \"year\": 2011, \"major_hurricanes\": 4}, {\"region\": \"northatlantic\", \"year\": 2012, \"major_hurricanes\": 2}, {\"region\": \"northatlantic\", \"year\": 2013, \"major_hurricanes\": 0}, {\"region\": \"northatlantic\", \"year\": 2014, \"major_hurricanes\": 2}, {\"region\": \"northatlantic\", \"year\": 2015, \"major_hurricanes\": 2}, {\"region\": \"northatlantic\", \"year\": 2016, \"major_hurricanes\": 4}, {\"region\": \"northatlantic\", \"year\": 2017, \"major_hurricanes\": 6}, {\"region\": \"northatlantic\", \"year\": 2018, \"major_hurricanes\": 2}, {\"region\": \"northatlantic\", \"year\": 2019, \"major_hurricanes\": 3}, {\"region\": \"northatlantic\", \"year\": 2020, \"major_hurricanes\": 6}, {\"region\": \"northatlantic\", \"year\": 2021, \"major_hurricanes\": 4}, {\"region\": \"northatlantic\", \"year\": 2022, \"major_hurricanes\": 2}, {\"region\": \"northatlantic\", \"year\": 2023, \"major_hurricanes\": 3}, {\"region\": \"southpacific\", \"year\": 1980, \"major_hurricanes\": 1}, {\"region\": \"southpacific\", \"year\": 1981, \"major_hurricanes\": 0}, {\"region\": \"southpacific\", \"year\": 1982, \"major_hurricanes\": 0}, {\"region\": \"southpacific\", \"year\": 1983, \"major_hurricanes\": 5}, {\"region\": \"southpacific\", \"year\": 1984, \"major_hurricanes\": 1}, {\"region\": \"southpacific\", \"year\": 1985, \"major_hurricanes\": 5}, {\"region\": \"southpacific\", \"year\": 1986, \"major_hurricanes\": 0}, {\"region\": \"southpacific\", \"year\": 1987, \"major_hurricanes\": 1}, {\"region\": \"southpacific\", \"year\": 1988, \"major_hurricanes\": 2}, {\"region\": \"southpacific\", \"year\": 1989, \"major_hurricanes\": 4}, {\"region\": \"southpacific\", \"year\": 1990, \"major_hurricanes\": 1}, {\"region\": \"southpacific\", \"year\": 1991, \"major_hurricanes\": 1}, {\"region\": \"southpacific\", \"year\": 1992, \"major_hurricanes\": 4}, {\"region\": \"southpacific\", \"year\": 1993, \"major_hurricanes\": 5}, {\"region\": \"southpacific\", \"year\": 1994, \"major_hurricanes\": 4}, {\"region\": \"southpacific\", \"year\": 1995, \"major_hurricanes\": 1}, {\"region\": \"southpacific\", \"year\": 1996, \"major_hurricanes\": 1}, {\"region\": \"southpacific\", \"year\": 1997, \"major_hurricanes\": 3}, {\"region\": \"southpacific\", \"year\": 1998, \"major_hurricanes\": 4}, {\"region\": \"southpacific\", \"year\": 1999, \"major_hurricanes\": 1}, {\"region\": \"southpacific\", \"year\": 2000, \"major_hurricanes\": 1}, {\"region\": \"southpacific\", \"year\": 2001, \"major_hurricanes\": 1}, {\"region\": \"southpacific\", \"year\": 2002, \"major_hurricanes\": 1}, {\"region\": \"southpacific\", \"year\": 2003, \"major_hurricanes\": 6}, {\"region\": \"southpacific\", \"year\": 2004, \"major_hurricanes\": 2}, {\"region\": \"southpacific\", \"year\": 2005, \"major_hurricanes\": 5}, {\"region\": \"southpacific\", \"year\": 2006, \"major_hurricanes\": 2}, {\"region\": \"southpacific\", \"year\": 2007, \"major_hurricanes\": 1}, {\"region\": \"southpacific\", \"year\": 2008, \"major_hurricanes\": 3}, {\"region\": \"southpacific\", \"year\": 2009, \"major_hurricanes\": 1}, {\"region\": \"southpacific\", \"year\": 2010, \"major_hurricanes\": 4}, {\"region\": \"southpacific\", \"year\": 2011, \"major_hurricanes\": 3}, {\"region\": \"southpacific\", \"year\": 2012, \"major_hurricanes\": 1}, {\"region\": \"southpacific\", \"year\": 2013, \"major_hurricanes\": 3}, {\"region\": \"southpacific\", \"year\": 2014, \"major_hurricanes\": 2}, {\"region\": \"southpacific\", \"year\": 2015, \"major_hurricanes\": 4}, {\"region\": \"southpacific\", \"year\": 2016, \"major_hurricanes\": 2}, {\"region\": \"southpacific\", \"year\": 2017, \"major_hurricanes\": 2}, {\"region\": \"southpacific\", \"year\": 2018, \"major_hurricanes\": 3}, {\"region\": \"southpacific\", \"year\": 2019, \"major_hurricanes\": 2}, {\"region\": \"southpacific\", \"year\": 2020, \"major_hurricanes\": 1}, {\"region\": \"southpacific\", \"year\": 2021, \"major_hurricanes\": 2}, {\"region\": \"southpacific\", \"year\": 2022, \"major_hurricanes\": 0}, {\"region\": \"southpacific\", \"year\": 2023, \"major_hurricanes\": 2}, {\"region\": \"northindian\", \"year\": 1980, \"major_hurricanes\": 0}, {\"region\": \"northindian\", \"year\": 1981, \"major_hurricanes\": 0}, {\"region\": \"northindian\", \"year\": 1982, \"major_hurricanes\": 1}, {\"region\": \"northindian\", \"year\": 1983, \"major_hurricanes\": 0}, {\"region\": \"northindian\", \"year\": 1984, \"major_hurricanes\": 0}, {\"region\": \"northindian\", \"year\": 1985, \"major_hurricanes\": 0}, {\"region\": \"northindian\", \"year\": 1986, \"major_hurricanes\": 0}, {\"region\": \"northindian\", \"year\": 1987, \"major_hurricanes\": 0}, {\"region\": \"northindian\", \"year\": 1988, \"major_hurricanes\": 1}, {\"region\": \"northindian\", \"year\": 1989, \"major_hurricanes\": 0}, {\"region\": \"northindian\", \"year\": 1990, \"major_hurricanes\": 1}, {\"region\": \"northindian\", \"year\": 1991, \"major_hurricanes\": 1}, {\"region\": \"northindian\", \"year\": 1992, \"major_hurricanes\": 1}, {\"region\": \"northindian\", \"year\": 1993, \"major_hurricanes\": 0}, {\"region\": \"northindian\", \"year\": 1994, \"major_hurricanes\": 1}, {\"region\": \"northindian\", \"year\": 1995, \"major_hurricanes\": 1}, {\"region\": \"northindian\", \"year\": 1996, \"major_hurricanes\": 1}, {\"region\": \"northindian\", \"year\": 1997, \"major_hurricanes\": 1}, {\"region\": \"northindian\", \"year\": 1998, \"major_hurricanes\": 1}, {\"region\": \"northindian\", \"year\": 1999, \"major_hurricanes\": 3}, {\"region\": \"northindian\", \"year\": 2000, \"major_hurricanes\": 0}, {\"region\": \"northindian\", \"year\": 2001, \"major_hurricanes\": 1}, {\"region\": \"northindian\", \"year\": 2002, \"major_hurricanes\": 0}, {\"region\": \"northindian\", \"year\": 2003, \"major_hurricanes\": 0}, {\"region\": \"northindian\", \"year\": 2004, \"major_hurricanes\": 0}, {\"region\": \"northindian\", \"year\": 2005, \"major_hurricanes\": 0}, {\"region\": \"northindian\", \"year\": 2006, \"major_hurricanes\": 1}, {\"region\": \"northindian\", \"year\": 2007, \"major_hurricanes\": 2}, {\"region\": \"northindian\", \"year\": 2008, \"major_hurricanes\": 1}, {\"region\": \"northindian\", \"year\": 2009, \"major_hurricanes\": 0}, {\"region\": \"northindian\", \"year\": 2010, \"major_hurricanes\": 2}, {\"region\": \"northindian\", \"year\": 2011, \"major_hurricanes\": 0}, {\"region\": \"northindian\", \"year\": 2012, \"major_hurricanes\": 0}, {\"region\": \"northindian\", \"year\": 2013, \"major_hurricanes\": 1}, {\"region\": \"northindian\", \"year\": 2014, \"major_hurricanes\": 2}, {\"region\": \"northindian\", \"year\": 2015, \"major_hurricanes\": 2}, {\"region\": \"northindian\", \"year\": 2016, \"major_hurricanes\": 0}, {\"region\": \"northindian\", \"year\": 2017, \"major_hurricanes\": 1}, {\"region\": \"northindian\", \"year\": 2018, \"major_hurricanes\": 2}, {\"region\": \"northindian\", \"year\": 2019, \"major_hurricanes\": 5}, {\"region\": \"northindian\", \"year\": 2020, \"major_hurricanes\": 2}, {\"region\": \"northindian\", \"year\": 2021, \"major_hurricanes\": 1}, {\"region\": \"northindian\", \"year\": 2022, \"major_hurricanes\": 0}, {\"region\": \"northindian\", \"year\": 2023, \"major_hurricanes\": 3}, {\"region\": \"northwestpacific\", \"year\": 1980, \"major_hurricanes\": 9}, {\"region\": \"northwestpacific\", \"year\": 1981, \"major_hurricanes\": 6}, {\"region\": \"northwestpacific\", \"year\": 1982, \"major_hurricanes\": 12}, {\"region\": \"northwestpacific\", \"year\": 1983, \"major_hurricanes\": 6}, {\"region\": \"northwestpacific\", \"year\": 1984, \"major_hurricanes\": 9}, {\"region\": \"northwestpacific\", \"year\": 1985, \"major_hurricanes\": 6}, {\"region\": \"northwestpacific\", \"year\": 1986, \"major_hurricanes\": 8}, {\"region\": \"northwestpacific\", \"year\": 1987, \"major_hurricanes\": 12}, {\"region\": \"northwestpacific\", \"year\": 1988, \"major_hurricanes\": 7}, {\"region\": \"northwestpacific\", \"year\": 1989, \"major_hurricanes\": 9}, {\"region\": \"northwestpacific\", \"year\": 1990, \"major_hurricanes\": 8}, {\"region\": \"northwestpacific\", \"year\": 1991, \"major_hurricanes\": 11}, {\"region\": \"northwestpacific\", \"year\": 1992, \"major_hurricanes\": 11}, {\"region\": \"northwestpacific\", \"year\": 1993, \"major_hurricanes\": 9}, {\"region\": \"northwestpacific\", \"year\": 1994, \"major_hurricanes\": 12}, {\"region\": \"northwestpacific\", \"year\": 1995, \"major_hurricanes\": 7}, {\"region\": \"northwestpacific\", \"year\": 1996, \"major_hurricanes\": 10}, {\"region\": \"northwestpacific\", \"year\": 1997, \"major_hurricanes\": 12}, {\"region\": \"northwestpacific\", \"year\": 1998, \"major_hurricanes\": 5}, {\"region\": \"northwestpacific\", \"year\": 1999, \"major_hurricanes\": 4}, {\"region\": \"northwestpacific\", \"year\": 2000, \"major_hurricanes\": 7}, {\"region\": \"northwestpacific\", \"year\": 2001, \"major_hurricanes\": 12}, {\"region\": \"northwestpacific\", \"year\": 2002, \"major_hurricanes\": 11}, {\"region\": \"northwestpacific\", \"year\": 2003, \"major_hurricanes\": 11}, {\"region\": \"northwestpacific\", \"year\": 2004, \"major_hurricanes\": 14}, {\"region\": \"northwestpacific\", \"year\": 2005, \"major_hurricanes\": 10}, {\"region\": \"northwestpacific\", \"year\": 2006, \"major_hurricanes\": 10}, {\"region\": \"northwestpacific\", \"year\": 2007, \"major_hurricanes\": 9}, {\"region\": \"northwestpacific\", \"year\": 2008, \"major_hurricanes\": 8}, {\"region\": \"northwestpacific\", \"year\": 2009, \"major_hurricanes\": 7}, {\"region\": \"northwestpacific\", \"year\": 2010, \"major_hurricanes\": 4}, {\"region\": \"northwestpacific\", \"year\": 2011, \"major_hurricanes\": 7}, {\"region\": \"northwestpacific\", \"year\": 2012, \"major_hurricanes\": 10}, {\"region\": \"northwestpacific\", \"year\": 2013, \"major_hurricanes\": 11}, {\"region\": \"northwestpacific\", \"year\": 2014, \"major_hurricanes\": 7}, {\"region\": \"northwestpacific\", \"year\": 2015, \"major_hurricanes\": 16}, {\"region\": \"northwestpacific\", \"year\": 2016, \"major_hurricanes\": 11}, {\"region\": \"northwestpacific\", \"year\": 2017, \"major_hurricanes\": 5}, {\"region\": \"northwestpacific\", \"year\": 2018, \"major_hurricanes\": 9}, {\"region\": \"northwestpacific\", \"year\": 2019, \"major_hurricanes\": 11}, {\"region\": \"northwestpacific\", \"year\": 2020, \"major_hurricanes\": 7}, {\"region\": \"northwestpacific\", \"year\": 2021, \"major_hurricanes\": 5}, {\"region\": \"northwestpacific\", \"year\": 2022, \"major_hurricanes\": 5}, {\"region\": \"northwestpacific\", \"year\": 2023, \"major_hurricanes\": 8}]}}, {\"mode\": \"vega-lite\"});\n",
       "</script>"
      ],
      "text/plain": [
       "alt.Chart(...)"
      ]
     },
     "execution_count": 95,
     "metadata": {},
     "output_type": "execute_result"
    }
   ],
   "source": [
    "# Make the chart\n",
    "alt.Chart(df).mark_bar().encode(\n",
    "    x=alt.X(\n",
    "        'year',\n",
    "        title='Year',\n",
    "        scale=alt.Scale(domain=[1980, 2023])\n",
    "    ),\n",
    "    y='major_hurricanes',\n",
    "    color=alt.Color(\n",
    "        'region',\n",
    "        title='Region',\n",
    "        # sort=region_order,\n",
    "        scale=region_color_map\n",
    "    ),\n",
    "    tooltip=['year', 'region', 'major_hurricanes']\n",
    ")"
   ]
  },
  {
   "cell_type": "markdown",
   "metadata": {},
   "source": [
    "### ISSUE\n",
    "The `sort` parameter of the `color` encoding is not being honored.\n",
    "\n",
    "Not matter what the sort order is specified as, the bars will always be stacked in alphabetical order!\n",
    "\n",
    "Is it time to ditch altair?"
   ]
  },
  {
   "cell_type": "markdown",
   "metadata": {},
   "source": [
    "### `matplotlib` chart"
   ]
  },
  {
   "cell_type": "code",
   "execution_count": 96,
   "metadata": {},
   "outputs": [
    {
     "data": {
      "text/html": [
       "<div><style>\n",
       ".dataframe > thead > tr,\n",
       ".dataframe > tbody > tr {\n",
       "  text-align: right;\n",
       "  white-space: pre-wrap;\n",
       "}\n",
       "</style>\n",
       "<small>shape: (264, 3)</small><table border=\"1\" class=\"dataframe\"><thead><tr><th>region</th><th>year</th><th>major_hurricanes</th></tr><tr><td>str</td><td>u16</td><td>i64</td></tr></thead><tbody><tr><td>&quot;northeastpacific&quot;</td><td>1980</td><td>3</td></tr><tr><td>&quot;northeastpacific&quot;</td><td>1981</td><td>1</td></tr><tr><td>&quot;northeastpacific&quot;</td><td>1982</td><td>5</td></tr><tr><td>&quot;northeastpacific&quot;</td><td>1983</td><td>8</td></tr><tr><td>&quot;northeastpacific&quot;</td><td>1984</td><td>7</td></tr><tr><td>&hellip;</td><td>&hellip;</td><td>&hellip;</td></tr><tr><td>&quot;northwestpacific&quot;</td><td>2019</td><td>11</td></tr><tr><td>&quot;northwestpacific&quot;</td><td>2020</td><td>7</td></tr><tr><td>&quot;northwestpacific&quot;</td><td>2021</td><td>5</td></tr><tr><td>&quot;northwestpacific&quot;</td><td>2022</td><td>5</td></tr><tr><td>&quot;northwestpacific&quot;</td><td>2023</td><td>8</td></tr></tbody></table></div>"
      ],
      "text/plain": [
       "shape: (264, 3)\n",
       "┌──────────────────┬──────┬──────────────────┐\n",
       "│ region           ┆ year ┆ major_hurricanes │\n",
       "│ ---              ┆ ---  ┆ ---              │\n",
       "│ str              ┆ u16  ┆ i64              │\n",
       "╞══════════════════╪══════╪══════════════════╡\n",
       "│ northeastpacific ┆ 1980 ┆ 3                │\n",
       "│ northeastpacific ┆ 1981 ┆ 1                │\n",
       "│ northeastpacific ┆ 1982 ┆ 5                │\n",
       "│ northeastpacific ┆ 1983 ┆ 8                │\n",
       "│ northeastpacific ┆ 1984 ┆ 7                │\n",
       "│ …                ┆ …    ┆ …                │\n",
       "│ northwestpacific ┆ 2019 ┆ 11               │\n",
       "│ northwestpacific ┆ 2020 ┆ 7                │\n",
       "│ northwestpacific ┆ 2021 ┆ 5                │\n",
       "│ northwestpacific ┆ 2022 ┆ 5                │\n",
       "│ northwestpacific ┆ 2023 ┆ 8                │\n",
       "└──────────────────┴──────┴──────────────────┘"
      ]
     },
     "execution_count": 96,
     "metadata": {},
     "output_type": "execute_result"
    }
   ],
   "source": [
    "df"
   ]
  },
  {
   "cell_type": "code",
   "execution_count": 97,
   "metadata": {},
   "outputs": [],
   "source": [
    "wide = df.pivot(on='year', values='major_hurricanes')"
   ]
  },
  {
   "cell_type": "code",
   "execution_count": 130,
   "metadata": {},
   "outputs": [
    {
     "data": {
      "image/png": "[encoded data removed]",
      "text/plain": [
       "<Figure size 640x480 with 1 Axes>"
      ]
     },
     "metadata": {},
     "output_type": "display_data"
    }
   ],
   "source": [
    "# years as tuple\n",
    "years = tuple(df['year'].unique().to_list())\n",
    "\n",
    "# region_hurricanes as dict {region: list of major_hurricane values}\n",
    "region_hurricanes = {row[0]: list(row[1:]) for row in wide.rows()}\n",
    "\n",
    "# calculate # of years \n",
    "n_years = len(years)\n",
    "\n",
    "# initialize stack_bottom to np.zeros(n_years)\n",
    "stack_bottom = np.zeros(n_years)\n",
    "\n",
    "width = 0.5\n",
    "fig, ax = plt.subplots()\n",
    "\n",
    "for region, hurricanes in region_hurricanes.items():\n",
    "    p = ax.bar(years, hurricanes, width, label=region, bottom=stack_bottom)\n",
    "    stack_bottom += hurricanes\n",
    "\n",
    "ax.set_title('Dude')\n",
    "ax.legend(loc='upper left')\n",
    "\n",
    "# Customize the plot\n",
    "plt.xlabel('Year')\n",
    "plt.ylabel('Number of Hurricanes')\n",
    "plt.title('Global Major Hurricane Frequency\\n1980-2023')\n",
    "plt.legend(title='Region', loc='upper left', bbox_to_anchor=(1, 1))\n",
    "\n",
    "\n",
    "plt.show()\n",
    "    "
   ]
  },
  {
   "cell_type": "code",
   "execution_count": null,
   "metadata": {},
   "outputs": [],
   "source": []
  }
 ],
 "metadata": {
  "kernelspec": {
   "display_name": ".venv",
   "language": "python",
   "name": "python3"
  },
  "language_info": {
   "codemirror_mode": {
    "name": "ipython",
    "version": 3
   },
   "file_extension": ".py",
   "mimetype": "text/x-python",
   "name": "python",
   "nbconvert_exporter": "python",
   "pygments_lexer": "ipython3",
   "version": "3.12.3"
  }
 },
 "nbformat": 4,
 "nbformat_minor": 2
}
