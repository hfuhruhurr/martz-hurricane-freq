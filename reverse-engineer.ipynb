{
 "cells": [
  {
   "cell_type": "markdown",
   "metadata": {},
   "source": [
    "### Goal\n",
    "To backdoor into the raw data Chris Martz used to build his Hurricane Frequency chart.\n",
    "\n",
    "ie, using only the picture of his stacked bar chart, assign data to the stack pieces.\n",
    "\n",
    "NB: there are multiple region pieces per year, unexpectedly"
   ]
  },
  {
   "cell_type": "markdown",
   "metadata": {},
   "source": [
    "### Reverse engineering Chris' source data\n",
    "It was quite the manual process but only took about an hour.\n",
    "\n",
    "I just looked at a zoomed image of his bar chart and extracted the data with the aid of a quick paper ruler I made (length of 5 with marks at 2 and 3 for ease of identification)."
   ]
  },
  {
   "cell_type": "code",
   "execution_count": 1,
   "metadata": {},
   "outputs": [],
   "source": [
    "import polars as pl\n",
    "import helper"
   ]
  },
  {
   "cell_type": "code",
   "execution_count": 2,
   "metadata": {},
   "outputs": [
    {
     "name": "stdout",
     "output_type": "stream",
     "text": [
      "region,1980,1981,1982,1983,1984,1985,1986,1987,1988,1989,1990,1991,1992,1993,1994,1995,1996,1997,1998,1999,2000,2001,2002,2003,2004,2005,2006,2007,2008,2009,2010,2011,2012,2013,2014,2015,2016,2017,2018,2019,2020,2021,2022,2023,\n"
     ]
    }
   ],
   "source": [
    "# Making the csv header row\n",
    "s = 'region,' \n",
    "for y in range(1980, 2024):\n",
    "    s += str(y) + ','\n",
    "print(s)"
   ]
  },
  {
   "cell_type": "code",
   "execution_count": 3,
   "metadata": {},
   "outputs": [],
   "source": [
    "df = (\n",
    "    pl.read_csv('data/reverse-engineered.csv')\n",
    "    .group_by('region').sum()\n",
    ")"
   ]
  },
  {
   "cell_type": "code",
   "execution_count": 4,
   "metadata": {},
   "outputs": [
    {
     "name": "stdout",
     "output_type": "stream",
     "text": [
      "{'northwestpacific': 'Northwest Pacific', 'northeastpacific': 'Northeast Pacific', 'northatlantic': 'North Atlantic', 'southindian': 'South Indian', 'southpacific': 'South Pacific', 'northindian': 'North Indian'}\n",
      "{'northwestpacific': '#15027d', 'northeastpacific': '#4677a3', 'northatlantic': '#34aa9f', 'southindian': '#54dacb', 'southpacific': '#648412', 'northindian': '#cc9c09'}\n"
     ]
    }
   ],
   "source": [
    "from enum import IntEnum, auto\n",
    "\n",
    "class Region(IntEnum):\n",
    "    NORTHWEST_PACIFIC = auto()\n",
    "    NORTHEAST_PACIFIC = auto()\n",
    "    NORTH_ATLANTIC = auto()\n",
    "    SOUTH_INDIAN = auto()\n",
    "    SOUTH_PACIFIC = auto()\n",
    "    NORTH_INDIAN = auto()\n",
    "\n",
    "# Define regions with their properties\n",
    "region_properties = {\n",
    "    Region.NORTHWEST_PACIFIC: {'label': 'Northwest Pacific', 'color': '#15027d'},\n",
    "    Region.NORTHEAST_PACIFIC: {'label': 'Northeast Pacific', 'color': '#4677a3'},\n",
    "    Region.NORTH_ATLANTIC: {'label': 'North Atlantic', 'color': '#34aa9f'},\n",
    "    Region.SOUTH_INDIAN: {'label': 'South Indian', 'color': '#54dacb'},\n",
    "    Region.SOUTH_PACIFIC: {'label': 'South Pacific', 'color': '#648412'},\n",
    "    Region.NORTH_INDIAN: {'label': 'North Indian', 'color': '#cc9c09'},\n",
    "}\n",
    "\n",
    "# Functions to access properties:\n",
    "def get_label(region):\n",
    "    return region_properties[region]['label']\n",
    "\n",
    "def get_color(region):\n",
    "    return region_properties[region]['color']\n",
    "\n",
    "# Sorting the regions by their enum values (which are auto-incrementing integers)\n",
    "region_sort_order = sorted(Region)\n",
    "region_labels = {region.name.lower().replace('_', ''): get_label(region) for region in region_sort_order}\n",
    "region_colors = {region.name.lower().replace('_', ''): get_color(region) for region in region_sort_order}\n",
    "\n",
    "# Example usage\n",
    "print(region_labels)  # Will print the dictionary of regions to labels\n",
    "print(region_colors)  # Will print the dictionary of regions to colors"
   ]
  },
  {
   "cell_type": "code",
   "execution_count": 5,
   "metadata": {},
   "outputs": [
    {
     "data": {
      "text/html": [
       "<div><style>\n",
       ".dataframe > thead > tr,\n",
       ".dataframe > tbody > tr {\n",
       "  text-align: right;\n",
       "  white-space: pre-wrap;\n",
       "}\n",
       "</style>\n",
       "<small>shape: (6, 45)</small><table border=\"1\" class=\"dataframe\"><thead><tr><th>region</th><th>1980</th><th>1981</th><th>1982</th><th>1983</th><th>1984</th><th>1985</th><th>1986</th><th>1987</th><th>1988</th><th>1989</th><th>1990</th><th>1991</th><th>1992</th><th>1993</th><th>1994</th><th>1995</th><th>1996</th><th>1997</th><th>1998</th><th>1999</th><th>2000</th><th>2001</th><th>2002</th><th>2003</th><th>2004</th><th>2005</th><th>2006</th><th>2007</th><th>2008</th><th>2009</th><th>2010</th><th>2011</th><th>2012</th><th>2013</th><th>2014</th><th>2015</th><th>2016</th><th>2017</th><th>2018</th><th>2019</th><th>2020</th><th>2021</th><th>2022</th><th>2023</th></tr><tr><td>str</td><td>i64</td><td>i64</td><td>i64</td><td>i64</td><td>i64</td><td>i64</td><td>i64</td><td>i64</td><td>i64</td><td>i64</td><td>i64</td><td>i64</td><td>i64</td><td>i64</td><td>i64</td><td>i64</td><td>i64</td><td>i64</td><td>i64</td><td>i64</td><td>i64</td><td>i64</td><td>i64</td><td>i64</td><td>i64</td><td>i64</td><td>i64</td><td>i64</td><td>i64</td><td>i64</td><td>i64</td><td>i64</td><td>i64</td><td>i64</td><td>i64</td><td>i64</td><td>i64</td><td>i64</td><td>i64</td><td>i64</td><td>i64</td><td>i64</td><td>i64</td><td>i64</td></tr></thead><tbody><tr><td>&quot;northeastpacific&quot;</td><td>3</td><td>1</td><td>5</td><td>8</td><td>7</td><td>8</td><td>3</td><td>4</td><td>3</td><td>4</td><td>6</td><td>5</td><td>10</td><td>9</td><td>5</td><td>3</td><td>2</td><td>7</td><td>6</td><td>2</td><td>2</td><td>2</td><td>6</td><td>0</td><td>3</td><td>2</td><td>6</td><td>1</td><td>2</td><td>5</td><td>2</td><td>6</td><td>5</td><td>1</td><td>9</td><td>11</td><td>6</td><td>4</td><td>10</td><td>4</td><td>3</td><td>2</td><td>4</td><td>8</td></tr><tr><td>&quot;northwestpacific&quot;</td><td>9</td><td>6</td><td>12</td><td>6</td><td>9</td><td>6</td><td>8</td><td>12</td><td>7</td><td>9</td><td>8</td><td>11</td><td>11</td><td>9</td><td>12</td><td>7</td><td>10</td><td>12</td><td>5</td><td>4</td><td>7</td><td>12</td><td>11</td><td>11</td><td>14</td><td>10</td><td>10</td><td>9</td><td>8</td><td>7</td><td>4</td><td>7</td><td>10</td><td>11</td><td>7</td><td>16</td><td>11</td><td>5</td><td>9</td><td>11</td><td>7</td><td>5</td><td>5</td><td>8</td></tr><tr><td>&quot;northindian&quot;</td><td>0</td><td>0</td><td>1</td><td>0</td><td>0</td><td>0</td><td>0</td><td>0</td><td>1</td><td>0</td><td>1</td><td>1</td><td>1</td><td>0</td><td>1</td><td>1</td><td>1</td><td>1</td><td>3</td><td>3</td><td>0</td><td>1</td><td>0</td><td>0</td><td>0</td><td>0</td><td>1</td><td>2</td><td>1</td><td>0</td><td>2</td><td>0</td><td>0</td><td>1</td><td>2</td><td>2</td><td>0</td><td>1</td><td>2</td><td>5</td><td>2</td><td>1</td><td>0</td><td>3</td></tr><tr><td>&quot;southpacific&quot;</td><td>1</td><td>0</td><td>0</td><td>5</td><td>1</td><td>5</td><td>0</td><td>1</td><td>2</td><td>4</td><td>1</td><td>1</td><td>4</td><td>5</td><td>4</td><td>1</td><td>1</td><td>3</td><td>1</td><td>1</td><td>1</td><td>1</td><td>1</td><td>6</td><td>2</td><td>5</td><td>2</td><td>1</td><td>3</td><td>1</td><td>4</td><td>3</td><td>1</td><td>3</td><td>2</td><td>4</td><td>2</td><td>2</td><td>3</td><td>2</td><td>1</td><td>2</td><td>0</td><td>2</td></tr><tr><td>&quot;northatlantic&quot;</td><td>2</td><td>3</td><td>1</td><td>1</td><td>1</td><td>3</td><td>0</td><td>1</td><td>3</td><td>2</td><td>1</td><td>2</td><td>1</td><td>1</td><td>0</td><td>5</td><td>6</td><td>1</td><td>3</td><td>5</td><td>3</td><td>4</td><td>2</td><td>3</td><td>6</td><td>7</td><td>2</td><td>2</td><td>5</td><td>2</td><td>5</td><td>4</td><td>2</td><td>0</td><td>2</td><td>2</td><td>4</td><td>6</td><td>2</td><td>3</td><td>6</td><td>4</td><td>2</td><td>3</td></tr><tr><td>&quot;southindian&quot;</td><td>5</td><td>5</td><td>1</td><td>0</td><td>2</td><td>0</td><td>5</td><td>0</td><td>1</td><td>2</td><td>2</td><td>1</td><td>2</td><td>0</td><td>2</td><td>5</td><td>5</td><td>1</td><td>1</td><td>3</td><td>6</td><td>2</td><td>6</td><td>0</td><td>4</td><td>0</td><td>2</td><td>5</td><td>1</td><td>3</td><td>2</td><td>0</td><td>1</td><td>2</td><td>3</td><td>2</td><td>1</td><td>1</td><td>2</td><td>5</td><td>2</td><td>1</td><td>5</td><td>3</td></tr></tbody></table></div>"
      ],
      "text/plain": [
       "shape: (6, 45)\n",
       "┌──────────────────┬──────┬──────┬──────┬───┬──────┬──────┬──────┬──────┐\n",
       "│ region           ┆ 1980 ┆ 1981 ┆ 1982 ┆ … ┆ 2020 ┆ 2021 ┆ 2022 ┆ 2023 │\n",
       "│ ---              ┆ ---  ┆ ---  ┆ ---  ┆   ┆ ---  ┆ ---  ┆ ---  ┆ ---  │\n",
       "│ str              ┆ i64  ┆ i64  ┆ i64  ┆   ┆ i64  ┆ i64  ┆ i64  ┆ i64  │\n",
       "╞══════════════════╪══════╪══════╪══════╪═══╪══════╪══════╪══════╪══════╡\n",
       "│ northeastpacific ┆ 3    ┆ 1    ┆ 5    ┆ … ┆ 3    ┆ 2    ┆ 4    ┆ 8    │\n",
       "│ northwestpacific ┆ 9    ┆ 6    ┆ 12   ┆ … ┆ 7    ┆ 5    ┆ 5    ┆ 8    │\n",
       "│ northindian      ┆ 0    ┆ 0    ┆ 1    ┆ … ┆ 2    ┆ 1    ┆ 0    ┆ 3    │\n",
       "│ southpacific     ┆ 1    ┆ 0    ┆ 0    ┆ … ┆ 1    ┆ 2    ┆ 0    ┆ 2    │\n",
       "│ northatlantic    ┆ 2    ┆ 3    ┆ 1    ┆ … ┆ 6    ┆ 4    ┆ 2    ┆ 3    │\n",
       "│ southindian      ┆ 5    ┆ 5    ┆ 1    ┆ … ┆ 2    ┆ 1    ┆ 5    ┆ 3    │\n",
       "└──────────────────┴──────┴──────┴──────┴───┴──────┴──────┴──────┴──────┘"
      ]
     },
     "execution_count": 5,
     "metadata": {},
     "output_type": "execute_result"
    }
   ],
   "source": [
    "df"
   ]
  },
  {
   "cell_type": "code",
   "execution_count": 6,
   "metadata": {},
   "outputs": [
    {
     "data": {
      "text/html": [
       "<div><style>\n",
       ".dataframe > thead > tr,\n",
       ".dataframe > tbody > tr {\n",
       "  text-align: right;\n",
       "  white-space: pre-wrap;\n",
       "}\n",
       "</style>\n",
       "<small>shape: (6, 45)</small><table border=\"1\" class=\"dataframe\"><thead><tr><th>region</th><th>1980</th><th>1981</th><th>1982</th><th>1983</th><th>1984</th><th>1985</th><th>1986</th><th>1987</th><th>1988</th><th>1989</th><th>1990</th><th>1991</th><th>1992</th><th>1993</th><th>1994</th><th>1995</th><th>1996</th><th>1997</th><th>1998</th><th>1999</th><th>2000</th><th>2001</th><th>2002</th><th>2003</th><th>2004</th><th>2005</th><th>2006</th><th>2007</th><th>2008</th><th>2009</th><th>2010</th><th>2011</th><th>2012</th><th>2013</th><th>2014</th><th>2015</th><th>2016</th><th>2017</th><th>2018</th><th>2019</th><th>2020</th><th>2021</th><th>2022</th><th>2023</th></tr><tr><td>str</td><td>i64</td><td>i64</td><td>i64</td><td>i64</td><td>i64</td><td>i64</td><td>i64</td><td>i64</td><td>i64</td><td>i64</td><td>i64</td><td>i64</td><td>i64</td><td>i64</td><td>i64</td><td>i64</td><td>i64</td><td>i64</td><td>i64</td><td>i64</td><td>i64</td><td>i64</td><td>i64</td><td>i64</td><td>i64</td><td>i64</td><td>i64</td><td>i64</td><td>i64</td><td>i64</td><td>i64</td><td>i64</td><td>i64</td><td>i64</td><td>i64</td><td>i64</td><td>i64</td><td>i64</td><td>i64</td><td>i64</td><td>i64</td><td>i64</td><td>i64</td><td>i64</td></tr></thead><tbody><tr><td>&quot;northeastpacific&quot;</td><td>3</td><td>1</td><td>5</td><td>8</td><td>7</td><td>8</td><td>3</td><td>4</td><td>3</td><td>4</td><td>6</td><td>5</td><td>10</td><td>9</td><td>5</td><td>3</td><td>2</td><td>7</td><td>6</td><td>2</td><td>2</td><td>2</td><td>6</td><td>0</td><td>3</td><td>2</td><td>6</td><td>1</td><td>2</td><td>5</td><td>2</td><td>6</td><td>5</td><td>1</td><td>9</td><td>11</td><td>6</td><td>4</td><td>10</td><td>4</td><td>3</td><td>2</td><td>4</td><td>8</td></tr><tr><td>&quot;northwestpacific&quot;</td><td>9</td><td>6</td><td>12</td><td>6</td><td>9</td><td>6</td><td>8</td><td>12</td><td>7</td><td>9</td><td>8</td><td>11</td><td>11</td><td>9</td><td>12</td><td>7</td><td>10</td><td>12</td><td>5</td><td>4</td><td>7</td><td>12</td><td>11</td><td>11</td><td>14</td><td>10</td><td>10</td><td>9</td><td>8</td><td>7</td><td>4</td><td>7</td><td>10</td><td>11</td><td>7</td><td>16</td><td>11</td><td>5</td><td>9</td><td>11</td><td>7</td><td>5</td><td>5</td><td>8</td></tr><tr><td>&quot;northindian&quot;</td><td>0</td><td>0</td><td>1</td><td>0</td><td>0</td><td>0</td><td>0</td><td>0</td><td>1</td><td>0</td><td>1</td><td>1</td><td>1</td><td>0</td><td>1</td><td>1</td><td>1</td><td>1</td><td>3</td><td>3</td><td>0</td><td>1</td><td>0</td><td>0</td><td>0</td><td>0</td><td>1</td><td>2</td><td>1</td><td>0</td><td>2</td><td>0</td><td>0</td><td>1</td><td>2</td><td>2</td><td>0</td><td>1</td><td>2</td><td>5</td><td>2</td><td>1</td><td>0</td><td>3</td></tr><tr><td>&quot;southpacific&quot;</td><td>1</td><td>0</td><td>0</td><td>5</td><td>1</td><td>5</td><td>0</td><td>1</td><td>2</td><td>4</td><td>1</td><td>1</td><td>4</td><td>5</td><td>4</td><td>1</td><td>1</td><td>3</td><td>1</td><td>1</td><td>1</td><td>1</td><td>1</td><td>6</td><td>2</td><td>5</td><td>2</td><td>1</td><td>3</td><td>1</td><td>4</td><td>3</td><td>1</td><td>3</td><td>2</td><td>4</td><td>2</td><td>2</td><td>3</td><td>2</td><td>1</td><td>2</td><td>0</td><td>2</td></tr><tr><td>&quot;northatlantic&quot;</td><td>2</td><td>3</td><td>1</td><td>1</td><td>1</td><td>3</td><td>0</td><td>1</td><td>3</td><td>2</td><td>1</td><td>2</td><td>1</td><td>1</td><td>0</td><td>5</td><td>6</td><td>1</td><td>3</td><td>5</td><td>3</td><td>4</td><td>2</td><td>3</td><td>6</td><td>7</td><td>2</td><td>2</td><td>5</td><td>2</td><td>5</td><td>4</td><td>2</td><td>0</td><td>2</td><td>2</td><td>4</td><td>6</td><td>2</td><td>3</td><td>6</td><td>4</td><td>2</td><td>3</td></tr><tr><td>&quot;southindian&quot;</td><td>5</td><td>5</td><td>1</td><td>0</td><td>2</td><td>0</td><td>5</td><td>0</td><td>1</td><td>2</td><td>2</td><td>1</td><td>2</td><td>0</td><td>2</td><td>5</td><td>5</td><td>1</td><td>1</td><td>3</td><td>6</td><td>2</td><td>6</td><td>0</td><td>4</td><td>0</td><td>2</td><td>5</td><td>1</td><td>3</td><td>2</td><td>0</td><td>1</td><td>2</td><td>3</td><td>2</td><td>1</td><td>1</td><td>2</td><td>5</td><td>2</td><td>1</td><td>5</td><td>3</td></tr></tbody></table></div>"
      ],
      "text/plain": [
       "shape: (6, 45)\n",
       "┌──────────────────┬──────┬──────┬──────┬───┬──────┬──────┬──────┬──────┐\n",
       "│ region           ┆ 1980 ┆ 1981 ┆ 1982 ┆ … ┆ 2020 ┆ 2021 ┆ 2022 ┆ 2023 │\n",
       "│ ---              ┆ ---  ┆ ---  ┆ ---  ┆   ┆ ---  ┆ ---  ┆ ---  ┆ ---  │\n",
       "│ str              ┆ i64  ┆ i64  ┆ i64  ┆   ┆ i64  ┆ i64  ┆ i64  ┆ i64  │\n",
       "╞══════════════════╪══════╪══════╪══════╪═══╪══════╪══════╪══════╪══════╡\n",
       "│ northeastpacific ┆ 3    ┆ 1    ┆ 5    ┆ … ┆ 3    ┆ 2    ┆ 4    ┆ 8    │\n",
       "│ northwestpacific ┆ 9    ┆ 6    ┆ 12   ┆ … ┆ 7    ┆ 5    ┆ 5    ┆ 8    │\n",
       "│ northindian      ┆ 0    ┆ 0    ┆ 1    ┆ … ┆ 2    ┆ 1    ┆ 0    ┆ 3    │\n",
       "│ southpacific     ┆ 1    ┆ 0    ┆ 0    ┆ … ┆ 1    ┆ 2    ┆ 0    ┆ 2    │\n",
       "│ northatlantic    ┆ 2    ┆ 3    ┆ 1    ┆ … ┆ 6    ┆ 4    ┆ 2    ┆ 3    │\n",
       "│ southindian      ┆ 5    ┆ 5    ┆ 1    ┆ … ┆ 2    ┆ 1    ┆ 5    ┆ 3    │\n",
       "└──────────────────┴──────┴──────┴──────┴───┴──────┴──────┴──────┴──────┘"
      ]
     },
     "execution_count": 6,
     "metadata": {},
     "output_type": "execute_result"
    }
   ],
   "source": [
    "df"
   ]
  },
  {
   "cell_type": "code",
   "execution_count": 7,
   "metadata": {},
   "outputs": [
    {
     "data": {
      "text/plain": [
       "['1980',\n",
       " '1981',\n",
       " '1982',\n",
       " '1983',\n",
       " '1984',\n",
       " '1985',\n",
       " '1986',\n",
       " '1987',\n",
       " '1988',\n",
       " '1989',\n",
       " '1990',\n",
       " '1991',\n",
       " '1992',\n",
       " '1993',\n",
       " '1994',\n",
       " '1995',\n",
       " '1996',\n",
       " '1997',\n",
       " '1998',\n",
       " '1999',\n",
       " '2000',\n",
       " '2001',\n",
       " '2002',\n",
       " '2003',\n",
       " '2004',\n",
       " '2005',\n",
       " '2006',\n",
       " '2007',\n",
       " '2008',\n",
       " '2009',\n",
       " '2010',\n",
       " '2011',\n",
       " '2012',\n",
       " '2013',\n",
       " '2014',\n",
       " '2015',\n",
       " '2016',\n",
       " '2017',\n",
       " '2018',\n",
       " '2019',\n",
       " '2020',\n",
       " '2021',\n",
       " '2022',\n",
       " '2023']"
      ]
     },
     "execution_count": 7,
     "metadata": {},
     "output_type": "execute_result"
    }
   ],
   "source": [
    "list(df.columns[1:])"
   ]
  },
  {
   "cell_type": "code",
   "execution_count": 8,
   "metadata": {},
   "outputs": [
    {
     "name": "stdout",
     "output_type": "stream",
     "text": [
      "northwestpacific [9, 6, 12, 6, 9, 6, 8, 12, 7, 9, 8, 11, 11, 9, 12, 7, 10, 12, 5, 4, 7, 12, 11, 11, 14, 10, 10, 9, 8, 7, 4, 7, 10, 11, 7, 16, 11, 5, 9, 11, 7, 5, 5, 8]\n",
      "northeastpacific [3, 1, 5, 8, 7, 8, 3, 4, 3, 4, 6, 5, 10, 9, 5, 3, 2, 7, 6, 2, 2, 2, 6, 0, 3, 2, 6, 1, 2, 5, 2, 6, 5, 1, 9, 11, 6, 4, 10, 4, 3, 2, 4, 8]\n",
      "northatlantic [2, 3, 1, 1, 1, 3, 0, 1, 3, 2, 1, 2, 1, 1, 0, 5, 6, 1, 3, 5, 3, 4, 2, 3, 6, 7, 2, 2, 5, 2, 5, 4, 2, 0, 2, 2, 4, 6, 2, 3, 6, 4, 2, 3]\n",
      "southindian [5, 5, 1, 0, 2, 0, 5, 0, 1, 2, 2, 1, 2, 0, 2, 5, 5, 1, 1, 3, 6, 2, 6, 0, 4, 0, 2, 5, 1, 3, 2, 0, 1, 2, 3, 2, 1, 1, 2, 5, 2, 1, 5, 3]\n",
      "southpacific [1, 0, 0, 5, 1, 5, 0, 1, 2, 4, 1, 1, 4, 5, 4, 1, 1, 3, 1, 1, 1, 1, 1, 6, 2, 5, 2, 1, 3, 1, 4, 3, 1, 3, 2, 4, 2, 2, 3, 2, 1, 2, 0, 2]\n",
      "northindian [0, 0, 1, 0, 0, 0, 0, 0, 1, 0, 1, 1, 1, 0, 1, 1, 1, 1, 3, 3, 0, 1, 0, 0, 0, 0, 1, 2, 1, 0, 2, 0, 0, 1, 2, 2, 0, 1, 2, 5, 2, 1, 0, 3]\n"
     ]
    },
    {
     "data": {
      "image/png": "[encoded data removed]",
      "text/plain": [
       "<Figure size 600x425 with 1 Axes>"
      ]
     },
     "metadata": {},
     "output_type": "display_data"
    },
    {
     "data": {
      "text/plain": [
       "27"
      ]
     },
     "execution_count": 8,
     "metadata": {},
     "output_type": "execute_result"
    }
   ],
   "source": [
    "helper.make_chart(df)"
   ]
  },
  {
   "cell_type": "code",
   "execution_count": null,
   "metadata": {},
   "outputs": [],
   "source": []
  }
 ],
 "metadata": {
  "kernelspec": {
   "display_name": ".venv",
   "language": "python",
   "name": "python3"
  },
  "language_info": {
   "codemirror_mode": {
    "name": "ipython",
    "version": 3
   },
   "file_extension": ".py",
   "mimetype": "text/x-python",
   "name": "python",
   "nbconvert_exporter": "python",
   "pygments_lexer": "ipython3",
   "version": "3.12.3"
  }
 },
 "nbformat": 4,
 "nbformat_minor": 2
}
