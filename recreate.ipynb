{
 "cells": [
  {
   "cell_type": "code",
   "execution_count": 8,
   "metadata": {},
   "outputs": [],
   "source": [
    "import polars as pl\n",
    "import json\n",
    "from pathlib import Path\n",
    "import altair as alt\n",
    "import matplotlib.pyplot as plt\n",
    "from matplotlib.ticker import MultipleLocator\n",
    "import numpy as np\n",
    "import helper\n",
    "import os"
   ]
  },
  {
   "cell_type": "code",
   "execution_count": 23,
   "metadata": {},
   "outputs": [],
   "source": [
    "def process_one_basin(basin):\n",
    "    file_path = f'data/{basin}.json'\n",
    "\n",
    "    with open(file_path, 'r') as file:\n",
    "        # Read in json data (one file for each basin)\n",
    "        data = json.load(file)\n",
    "         \n",
    "        # Convert json data to a list of dicts (to facilitate to conversion to a dataframe)\n",
    "        records = [\n",
    "            {\n",
    "                'year': year,\n",
    "                'named_storms': values[0],\n",
    "                'named_storm_days': values[1],\n",
    "                'hurricanes': values[2],\n",
    "                'hurricane_days': values[3],\n",
    "                'major_hurricanes': values[4],\n",
    "                'major_hurricane_days': values[5],\n",
    "                'ace': values[6],\n",
    "            }\n",
    "            for year, values in data.items()\n",
    "        ]\n",
    "\n",
    "        # Make a dataframe from the list-o-dicts\n",
    "        df = (\n",
    "            pl.DataFrame(records)\n",
    "            .with_columns(\n",
    "                pl.lit(basin).alias('basin'),\n",
    "                pl.col('year').cast(pl.UInt16),\n",
    "            )\n",
    "        )\n",
    "\n",
    "        # Put 'basin' column first and scoot the rest to the right\n",
    "        cols = df.columns\n",
    "        cols = cols[-1:] + cols[:-1]\n",
    "\n",
    "    return df[cols]"
   ]
  },
  {
   "cell_type": "code",
   "execution_count": 24,
   "metadata": {},
   "outputs": [],
   "source": [
    "def combine_input_sources():\n",
    "    # Grab data from source .json files\n",
    "    data_dir = Path('data')\n",
    "    json_files = [file for file in data_dir.glob('*.json') if file.is_file()]\n",
    "\n",
    "    # Combine all basin's pertinent data into one dataframe\n",
    "    master_df = pl.DataFrame()\n",
    "\n",
    "    for file in json_files:\n",
    "        basin = file.stem\n",
    "        master_df = master_df.vstack(process_one_basin(basin))\n",
    "\n",
    "    return master_df"
   ]
  },
  {
   "cell_type": "code",
   "execution_count": 26,
   "metadata": {},
   "outputs": [],
   "source": [
    "def extract_chart_data(master_df):\n",
    "    # Grab only the data needed for the chart\n",
    "    chart_df = (\n",
    "        master_df\n",
    "        .filter(\n",
    "            pl.col('year').is_between(1980, 2023),\n",
    "            ~pl.col('basin').is_in(['global', 'northernhemisphere', 'southernhemisphere'])\n",
    "        )\n",
    "        .select(['basin', 'year', 'major_hurricanes'])\n",
    "    )\n",
    "\n",
    "    # Convert the long table to wide\n",
    "    wide = chart_df.pivot(on='year', values='major_hurricanes')\n",
    "\n",
    "    # Write df to file if necessary\n",
    "    file_path = 'data/chart_source.parquet'\n",
    "    if os.path.exists(file_path):\n",
    "        print('No action necessary.')\n",
    "    else:\n",
    "        wide.write_parquet(file_path)\n",
    "        print('Wrote chart_source.parquet.')\n",
    "\n",
    "    return wide "
   ]
  },
  {
   "cell_type": "code",
   "execution_count": 33,
   "metadata": {},
   "outputs": [
    {
     "name": "stdout",
     "output_type": "stream",
     "text": [
      "Wrote chart_source.parquet.\n"
     ]
    },
    {
     "data": {
      "text/html": [
       "<div><style>\n",
       ".dataframe > thead > tr,\n",
       ".dataframe > tbody > tr {\n",
       "  text-align: right;\n",
       "  white-space: pre-wrap;\n",
       "}\n",
       "</style>\n",
       "<small>shape: (6, 45)</small><table border=\"1\" class=\"dataframe\"><thead><tr><th>basin</th><th>1980</th><th>1981</th><th>1982</th><th>1983</th><th>1984</th><th>1985</th><th>1986</th><th>1987</th><th>1988</th><th>1989</th><th>1990</th><th>1991</th><th>1992</th><th>1993</th><th>1994</th><th>1995</th><th>1996</th><th>1997</th><th>1998</th><th>1999</th><th>2000</th><th>2001</th><th>2002</th><th>2003</th><th>2004</th><th>2005</th><th>2006</th><th>2007</th><th>2008</th><th>2009</th><th>2010</th><th>2011</th><th>2012</th><th>2013</th><th>2014</th><th>2015</th><th>2016</th><th>2017</th><th>2018</th><th>2019</th><th>2020</th><th>2021</th><th>2022</th><th>2023</th></tr><tr><td>str</td><td>i64</td><td>i64</td><td>i64</td><td>i64</td><td>i64</td><td>i64</td><td>i64</td><td>i64</td><td>i64</td><td>i64</td><td>i64</td><td>i64</td><td>i64</td><td>i64</td><td>i64</td><td>i64</td><td>i64</td><td>i64</td><td>i64</td><td>i64</td><td>i64</td><td>i64</td><td>i64</td><td>i64</td><td>i64</td><td>i64</td><td>i64</td><td>i64</td><td>i64</td><td>i64</td><td>i64</td><td>i64</td><td>i64</td><td>i64</td><td>i64</td><td>i64</td><td>i64</td><td>i64</td><td>i64</td><td>i64</td><td>i64</td><td>i64</td><td>i64</td><td>i64</td></tr></thead><tbody><tr><td>&quot;northeastpacific&quot;</td><td>3</td><td>1</td><td>5</td><td>8</td><td>7</td><td>8</td><td>3</td><td>4</td><td>3</td><td>4</td><td>6</td><td>5</td><td>10</td><td>9</td><td>5</td><td>3</td><td>2</td><td>7</td><td>6</td><td>2</td><td>2</td><td>2</td><td>6</td><td>0</td><td>3</td><td>2</td><td>6</td><td>1</td><td>2</td><td>5</td><td>2</td><td>6</td><td>5</td><td>1</td><td>9</td><td>11</td><td>6</td><td>4</td><td>10</td><td>4</td><td>3</td><td>2</td><td>4</td><td>8</td></tr><tr><td>&quot;southindian&quot;</td><td>6</td><td>5</td><td>2</td><td>0</td><td>3</td><td>2</td><td>5</td><td>0</td><td>2</td><td>6</td><td>4</td><td>2</td><td>7</td><td>2</td><td>7</td><td>7</td><td>7</td><td>5</td><td>2</td><td>6</td><td>7</td><td>4</td><td>7</td><td>5</td><td>6</td><td>4</td><td>5</td><td>8</td><td>5</td><td>4</td><td>5</td><td>1</td><td>2</td><td>6</td><td>7</td><td>5</td><td>3</td><td>2</td><td>4</td><td>11</td><td>5</td><td>3</td><td>5</td><td>5</td></tr><tr><td>&quot;northatlantic&quot;</td><td>2</td><td>3</td><td>1</td><td>1</td><td>1</td><td>3</td><td>0</td><td>1</td><td>3</td><td>2</td><td>1</td><td>2</td><td>1</td><td>1</td><td>0</td><td>5</td><td>6</td><td>1</td><td>3</td><td>5</td><td>3</td><td>4</td><td>2</td><td>3</td><td>6</td><td>7</td><td>2</td><td>2</td><td>5</td><td>2</td><td>5</td><td>4</td><td>2</td><td>0</td><td>2</td><td>2</td><td>4</td><td>6</td><td>2</td><td>3</td><td>6</td><td>4</td><td>2</td><td>3</td></tr><tr><td>&quot;southpacific&quot;</td><td>1</td><td>0</td><td>0</td><td>5</td><td>1</td><td>5</td><td>0</td><td>1</td><td>2</td><td>4</td><td>1</td><td>1</td><td>4</td><td>5</td><td>4</td><td>1</td><td>1</td><td>3</td><td>4</td><td>1</td><td>1</td><td>1</td><td>1</td><td>6</td><td>2</td><td>5</td><td>2</td><td>1</td><td>3</td><td>1</td><td>4</td><td>3</td><td>1</td><td>3</td><td>2</td><td>4</td><td>2</td><td>2</td><td>3</td><td>2</td><td>1</td><td>2</td><td>0</td><td>2</td></tr><tr><td>&quot;northindian&quot;</td><td>0</td><td>0</td><td>1</td><td>0</td><td>0</td><td>0</td><td>0</td><td>0</td><td>1</td><td>0</td><td>1</td><td>1</td><td>1</td><td>0</td><td>1</td><td>1</td><td>1</td><td>1</td><td>1</td><td>3</td><td>0</td><td>1</td><td>0</td><td>0</td><td>0</td><td>0</td><td>1</td><td>2</td><td>1</td><td>0</td><td>2</td><td>0</td><td>0</td><td>1</td><td>2</td><td>2</td><td>0</td><td>1</td><td>2</td><td>5</td><td>2</td><td>1</td><td>0</td><td>3</td></tr><tr><td>&quot;northwestpacific&quot;</td><td>9</td><td>6</td><td>12</td><td>6</td><td>9</td><td>6</td><td>8</td><td>12</td><td>7</td><td>9</td><td>8</td><td>11</td><td>11</td><td>9</td><td>12</td><td>7</td><td>10</td><td>12</td><td>5</td><td>4</td><td>7</td><td>12</td><td>11</td><td>11</td><td>14</td><td>10</td><td>10</td><td>9</td><td>8</td><td>7</td><td>4</td><td>7</td><td>10</td><td>11</td><td>7</td><td>16</td><td>11</td><td>5</td><td>9</td><td>11</td><td>7</td><td>5</td><td>5</td><td>8</td></tr></tbody></table></div>"
      ],
      "text/plain": [
       "shape: (6, 45)\n",
       "┌──────────────────┬──────┬──────┬──────┬───┬──────┬──────┬──────┬──────┐\n",
       "│ basin            ┆ 1980 ┆ 1981 ┆ 1982 ┆ … ┆ 2020 ┆ 2021 ┆ 2022 ┆ 2023 │\n",
       "│ ---              ┆ ---  ┆ ---  ┆ ---  ┆   ┆ ---  ┆ ---  ┆ ---  ┆ ---  │\n",
       "│ str              ┆ i64  ┆ i64  ┆ i64  ┆   ┆ i64  ┆ i64  ┆ i64  ┆ i64  │\n",
       "╞══════════════════╪══════╪══════╪══════╪═══╪══════╪══════╪══════╪══════╡\n",
       "│ northeastpacific ┆ 3    ┆ 1    ┆ 5    ┆ … ┆ 3    ┆ 2    ┆ 4    ┆ 8    │\n",
       "│ southindian      ┆ 6    ┆ 5    ┆ 2    ┆ … ┆ 5    ┆ 3    ┆ 5    ┆ 5    │\n",
       "│ northatlantic    ┆ 2    ┆ 3    ┆ 1    ┆ … ┆ 6    ┆ 4    ┆ 2    ┆ 3    │\n",
       "│ southpacific     ┆ 1    ┆ 0    ┆ 0    ┆ … ┆ 1    ┆ 2    ┆ 0    ┆ 2    │\n",
       "│ northindian      ┆ 0    ┆ 0    ┆ 1    ┆ … ┆ 2    ┆ 1    ┆ 0    ┆ 3    │\n",
       "│ northwestpacific ┆ 9    ┆ 6    ┆ 12   ┆ … ┆ 7    ┆ 5    ┆ 5    ┆ 8    │\n",
       "└──────────────────┴──────┴──────┴──────┴───┴──────┴──────┴──────┴──────┘"
      ]
     },
     "execution_count": 33,
     "metadata": {},
     "output_type": "execute_result"
    }
   ],
   "source": [
    "extract_chart_data(combine_input_sources())"
   ]
  },
  {
   "cell_type": "code",
   "execution_count": 34,
   "metadata": {},
   "outputs": [],
   "source": [
    "chart_source = pl.read_parquet('./data/chart_source.parquet')"
   ]
  },
  {
   "cell_type": "code",
   "execution_count": 35,
   "metadata": {},
   "outputs": [
    {
     "data": {
      "image/png": "[encoded data removed]",
      "text/plain": [
       "<Figure size 600x425 with 1 Axes>"
      ]
     },
     "metadata": {},
     "output_type": "display_data"
    }
   ],
   "source": [
    "helper.make_chart(chart_source)"
   ]
  },
  {
   "cell_type": "code",
   "execution_count": null,
   "metadata": {},
   "outputs": [],
   "source": []
  },
  {
   "cell_type": "markdown",
   "metadata": {},
   "source": [
    "### Concerns"
   ]
  },
  {
   "cell_type": "markdown",
   "metadata": {},
   "source": [
    "#### Concern: totals do not match\n",
    "There are too many \"close but not quite\" values.\n",
    "\n",
    "Could be due to source data files changing.  (Data from the web site is just a snapshot.)"
   ]
  },
  {
   "cell_type": "markdown",
   "metadata": {},
   "source": [
    "#### Concern: consistent stack order\n",
    "Chris' stack order is not consistent year after year.\n",
    "\n",
    "When it exists, North Indian should be the top-most stack piece.\n",
    "\n",
    "Yet 1990, 1992, 2006, 2013, and 2014 all show North Indian be the second top-most stack piece.\n"
   ]
  },
  {
   "cell_type": "markdown",
   "metadata": {},
   "source": [
    "#### Concern: multiple stack pieces in the same year\n",
    "\n",
    "eg, 1990 has two South Indian stack pieces.  So does 1992.\n",
    "\n",
    "This raises concern about the aggregation of data.\n"
   ]
  },
  {
   "cell_type": "markdown",
   "metadata": {},
   "source": []
  }
 ],
 "metadata": {
  "kernelspec": {
   "display_name": ".venv",
   "language": "python",
   "name": "python3"
  },
  "language_info": {
   "codemirror_mode": {
    "name": "ipython",
    "version": 3
   },
   "file_extension": ".py",
   "mimetype": "text/x-python",
   "name": "python",
   "nbconvert_exporter": "python",
   "pygments_lexer": "ipython3",
   "version": "3.12.3"
  }
 },
 "nbformat": 4,
 "nbformat_minor": 2
}
