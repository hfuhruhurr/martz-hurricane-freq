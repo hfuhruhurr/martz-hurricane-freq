{
 "cells": [
  {
   "cell_type": "code",
   "execution_count": 1,
   "metadata": {},
   "outputs": [],
   "source": [
    "import polars as pl\n",
    "import json\n",
    "from pathlib import Path\n",
    "import altair as alt\n",
    "import matplotlib.pyplot as plt\n",
    "from matplotlib.ticker import MultipleLocator\n",
    "import numpy as np"
   ]
  },
  {
   "cell_type": "code",
   "execution_count": 2,
   "metadata": {},
   "outputs": [],
   "source": [
    "def process_one_region(region):\n",
    "    file_path = f'data/{region}.json'\n",
    "\n",
    "    with open(file_path, 'r') as file:\n",
    "        # Read in json data (one file for each region)\n",
    "        data = json.load(file)\n",
    "         \n",
    "        # Convert json data to a list of dicts (to facilitate to conversion to a dataframe)\n",
    "        records = [\n",
    "            {\n",
    "                'year': year,\n",
    "                'named_storms': values[0],\n",
    "                'named_storm_days': values[1],\n",
    "                'hurricanes': values[2],\n",
    "                'hurricane_days': values[3],\n",
    "                'major_hurricanes': values[4],\n",
    "                'major_hurricane_days': values[5],\n",
    "                'ace': values[6],\n",
    "            }\n",
    "            for year, values in data.items()\n",
    "        ]\n",
    "\n",
    "        # Make a dataframe from the list-o-dicts\n",
    "        df = (\n",
    "            pl.DataFrame(records)\n",
    "            .with_columns(\n",
    "                # pl.lit(region).cast(pl.Categorical).alias('region'),\n",
    "                pl.lit(region).alias('region'),\n",
    "                pl.col('year').cast(pl.UInt16),\n",
    "            )\n",
    "        )\n",
    "\n",
    "        # Put 'region\" column first and scoot the rest to the right\n",
    "        cols = df.columns\n",
    "        cols = cols[-1:] + cols[:-1]\n",
    "\n",
    "    return df[cols]"
   ]
  },
  {
   "cell_type": "code",
   "execution_count": 3,
   "metadata": {},
   "outputs": [],
   "source": [
    "# Grab data from source .json files\n",
    "data_dir = Path('data')\n",
    "json_files = [file for file in data_dir.glob('*.json') if file.is_file()]"
   ]
  },
  {
   "cell_type": "code",
   "execution_count": 4,
   "metadata": {},
   "outputs": [
    {
     "name": "stdout",
     "output_type": "stream",
     "text": [
      "Processing the northeastpacific region...\n",
      "Processing the southindian region...\n",
      "Processing the northatlantic region...\n",
      "Processing the southernhemisphere region...\n",
      "Processing the southpacific region...\n",
      "Processing the northindian region...\n",
      "Processing the global region...\n",
      "Processing the northernhemisphere region...\n",
      "Processing the northwestpacific region...\n"
     ]
    }
   ],
   "source": [
    "# Combine all region's pertinent data into one dataframe\n",
    "master_df = pl.DataFrame()\n",
    "\n",
    "for file in json_files:\n",
    "    region = file.stem\n",
    "    print(f'Processing the {region} region...')\n",
    "    master_df = master_df.vstack(process_one_region(region))\n",
    "\n",
    "# Grab only the data needed for the chart\n",
    "chart_df = (\n",
    "    master_df\n",
    "    .filter(\n",
    "        pl.col('year').is_between(1980, 2023),\n",
    "        ~pl.col('region').is_in(['global', 'northernhemisphere', 'southernhemisphere'])\n",
    "    )\n",
    "    .select(['region', 'year', 'major_hurricanes'])\n",
    ")"
   ]
  },
  {
   "cell_type": "code",
   "execution_count": 5,
   "metadata": {},
   "outputs": [],
   "source": [
    "region_labels = {\n",
    "    'northwestpacific': 'Northwest Pacific',\n",
    "    'northeastpacific': 'Northeast Pacific',\n",
    "    'northatlantic': 'North Atlantic',\n",
    "    'southindian': 'South Indian',\n",
    "    'southpacific': 'South Pacific',\n",
    "    'northindian': 'North Indian',\n",
    "}"
   ]
  },
  {
   "cell_type": "code",
   "execution_count": 6,
   "metadata": {},
   "outputs": [],
   "source": [
    "# from bottom to top, how Chris stacked his bars\n",
    "region_sort_order = [\n",
    "    'northwestpacific',\n",
    "    'northeastpacific',\n",
    "    'northatlantic',\n",
    "    'southindian',\n",
    "    'southpacific',\n",
    "    'northindian',\n",
    "]"
   ]
  },
  {
   "cell_type": "code",
   "execution_count": 7,
   "metadata": {},
   "outputs": [],
   "source": [
    "# Discovered from Mac's builtin Digital Color Meter app which has a color picker\n",
    "region_colors = {\n",
    "    'northwestpacific': '#15027d',\n",
    "    'northeastpacific': '#4677a3',\n",
    "    'northatlantic': '#34aa9f',\n",
    "    'southindian': '#54dacb',\n",
    "    'southpacific': '#648412',\n",
    "    'northindian': '#cc9c09',\n",
    "}"
   ]
  },
  {
   "cell_type": "markdown",
   "metadata": {},
   "source": [
    "### `altair` chart"
   ]
  },
  {
   "cell_type": "code",
   "execution_count": 7,
   "metadata": {},
   "outputs": [],
   "source": [
    "region_color_map = alt.Scale(\n",
    "    domain=list(region_colors.keys()),\n",
    "    range=list(region_colors.values())\n",
    ")"
   ]
  },
  {
   "cell_type": "code",
   "execution_count": null,
   "metadata": {},
   "outputs": [],
   "source": [
    "# Make the chart\n",
    "alt.Chart(df).mark_bar().encode(\n",
    "    x=alt.X(\n",
    "        'year',\n",
    "        title='Year',\n",
    "        scale=alt.Scale(domain=[1980, 2023])\n",
    "    ),\n",
    "    y='major_hurricanes',\n",
    "    color=alt.Color(\n",
    "        'region',\n",
    "        title='Region',\n",
    "        # sort=region_order,\n",
    "        scale=region_color_map\n",
    "    ),\n",
    "    tooltip=['year', 'region', 'major_hurricanes']\n",
    ")"
   ]
  },
  {
   "cell_type": "markdown",
   "metadata": {},
   "source": [
    "#### ISSUE\n",
    "The `sort` parameter of the `color` encoding is not being honored.\n",
    "\n",
    "Not matter what the sort order is specified as, the bars will always be stacked in alphabetical order!\n",
    "\n",
    "Is it time to ditch altair?"
   ]
  },
  {
   "cell_type": "markdown",
   "metadata": {},
   "source": [
    "### `matplotlib` chart"
   ]
  },
  {
   "cell_type": "code",
   "execution_count": 8,
   "metadata": {},
   "outputs": [],
   "source": [
    "wide = chart_df.pivot(on='year', values='major_hurricanes')"
   ]
  },
  {
   "cell_type": "code",
   "execution_count": 18,
   "metadata": {},
   "outputs": [
    {
     "data": {
      "image/png": "[encoded data removed]",
      "text/plain": [
       "<Figure size 600x425 with 1 Axes>"
      ]
     },
     "metadata": {},
     "output_type": "display_data"
    }
   ],
   "source": [
    "# years as a tuple (or a list, whatevs) \n",
    "years = chart_df['year'].unique().to_list()\n",
    "\n",
    "# region_hurricanes as dict {region: list of major_hurricane values}\n",
    "region_hurricanes = {row[0]: list(row[1:]) for row in wide.rows()}\n",
    "\n",
    "# calculate # of years in the dataset (that's how many bar stacks there are)\n",
    "n_years = len(years)\n",
    "\n",
    "# initialize stack_bottom to np.zeros(n_years)\n",
    "stack_bottom = np.zeros(n_years)\n",
    "\n",
    "width = 0.8\n",
    "fig, ax = plt.subplots(figsize=(6, 4.25))\n",
    "\n",
    "plt.subplots_adjust(bottom=0.14)  # won't add this space if nothing uses that space\n",
    "\n",
    "# Build the stack\n",
    "for region in region_sort_order:\n",
    "    p = ax.bar(\n",
    "        years,\n",
    "        region_hurricanes[region],\n",
    "        width=width,\n",
    "        label=region,\n",
    "        bottom=stack_bottom,\n",
    "        color=region_colors[region]\n",
    "    )\n",
    "    stack_bottom += region_hurricanes[region]\n",
    "\n",
    "# Set the axes' view scope\n",
    "ax.set_xlim(1979, 2024)\n",
    "ax.set_ylim(0, 40)\n",
    "\n",
    "# Set the major and minor tick frequency\n",
    "ax.xaxis.set_major_locator(MultipleLocator(5))\n",
    "ax.xaxis.set_minor_locator(MultipleLocator(1))\n",
    "\n",
    "# Customize the plot\n",
    "plt.rcParams['font.family'] = 'serif'\n",
    "plt.rcParams['font.serif'] = ['Charter', 'Didot']\n",
    "plt.ylabel('Number of Hurricanes')\n",
    "plt.title('Global Major Hurricane Frequency\\n1980-2023')\n",
    "\n",
    "# Add a footer\n",
    "footer_text_1 = '*Data source: Colorado State University (CSU) Department of Atmospheric Science*'\n",
    "footer_text_2 = 'https://tropical.atmos.colostate.edu/Realtime/' \n",
    "footer_text_3 = 'Chart: Chris Martz'\n",
    "\n",
    "fig.text(.13, 0.06, footer_text_1, ha='left', va='center', fontsize=7)\n",
    "fig.text(.13, 0.03, footer_text_2, ha='left', va='center', fontsize=7)\n",
    "fig.text(.13, 0, footer_text_3, ha='left', va='center', fontsize=7)\n",
    "\n",
    "# Set the legend\n",
    "legend = ax.legend(\n",
    "    ncol=3,\n",
    "    loc='upper left',\n",
    "    bbox_to_anchor=(0, 1),\n",
    "    fontsize=8,\n",
    "    handlelength=1.75\n",
    ")\n",
    "\n",
    "# Rewrite the legend labels to human-ify the region\n",
    "region_labels_list = list(region_labels.values())\n",
    "for text, label in zip(legend.get_texts(), region_labels_list):\n",
    "    text.set_text(label)\n",
    "\n",
    "plt.show()\n",
    "    "
   ]
  },
  {
   "cell_type": "code",
   "execution_count": null,
   "metadata": {},
   "outputs": [],
   "source": []
  },
  {
   "cell_type": "code",
   "execution_count": null,
   "metadata": {},
   "outputs": [],
   "source": []
  },
  {
   "cell_type": "code",
   "execution_count": null,
   "metadata": {},
   "outputs": [],
   "source": []
  },
  {
   "cell_type": "code",
   "execution_count": null,
   "metadata": {},
   "outputs": [],
   "source": [
    "(\n",
    "    chart_df\n",
    "    .filter(pl.col('year') == 1980)\n",
    ")"
   ]
  },
  {
   "cell_type": "code",
   "execution_count": null,
   "metadata": {},
   "outputs": [],
   "source": []
  },
  {
   "cell_type": "code",
   "execution_count": null,
   "metadata": {},
   "outputs": [],
   "source": []
  },
  {
   "cell_type": "markdown",
   "metadata": {},
   "source": [
    "### TODO\n",
    "* add attribution footers"
   ]
  },
  {
   "cell_type": "markdown",
   "metadata": {},
   "source": [
    "### Concerns"
   ]
  },
  {
   "cell_type": "markdown",
   "metadata": {},
   "source": [
    "#### Concern: totals do not match\n",
    "There are too many \"close but not quite\" values.\n",
    "\n",
    "Could be due to source data files changing.  (Data from the web site is just a snapshot.)"
   ]
  },
  {
   "cell_type": "markdown",
   "metadata": {},
   "source": [
    "#### Concern: consistent stack order\n",
    "Chris' stack order is not consistent year after year.\n",
    "\n",
    "When it exists, North Indian should be the top-most stack piece.\n",
    "\n",
    "Yet 1990, 1992, 2006, 2013, and 2014 all show North Indian be the second top-most stack piece.\n"
   ]
  },
  {
   "cell_type": "markdown",
   "metadata": {},
   "source": [
    "#### Concern: multiple stack pieces in the same year\n",
    "\n",
    "eg, 1990 has two South Indian stack pieces.  So does 1992.\n",
    "\n",
    "This raises concern about the aggregation of data.\n"
   ]
  },
  {
   "cell_type": "markdown",
   "metadata": {},
   "source": []
  }
 ],
 "metadata": {
  "kernelspec": {
   "display_name": ".venv",
   "language": "python",
   "name": "python3"
  },
  "language_info": {
   "codemirror_mode": {
    "name": "ipython",
    "version": 3
   },
   "file_extension": ".py",
   "mimetype": "text/x-python",
   "name": "python",
   "nbconvert_exporter": "python",
   "pygments_lexer": "ipython3",
   "version": "3.12.3"
  }
 },
 "nbformat": 4,
 "nbformat_minor": 2
}
